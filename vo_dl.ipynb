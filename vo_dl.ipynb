{
  "metadata": {
    "kernelspec": {
      "display_name": "Python 3",
      "name": "python3"
    },
    "language_info": {
      "name": "python",
      "version": "3.10.12",
      "mimetype": "text/x-python",
      "codemirror_mode": {
        "name": "ipython",
        "version": 3
      },
      "pygments_lexer": "ipython3",
      "nbconvert_exporter": "python",
      "file_extension": ".py"
    },
    "kaggle": {
      "accelerator": "nvidiaTeslaT4",
      "dataSources": [
        {
          "sourceId": 11311414,
          "sourceType": "datasetVersion",
          "datasetId": 6945102
        }
      ],
      "dockerImageVersionId": 30919,
      "isInternetEnabled": true,
      "language": "python",
      "sourceType": "notebook",
      "isGpuEnabled": true
    },
    "colab": {
      "provenance": [],
      "gpuType": "T4"
    },
    "accelerator": "GPU"
  },
  "nbformat_minor": 0,
  "nbformat": 4,
  "cells": [
    {
      "cell_type": "code",
      "source": [
        "\n",
        "import numpy as np # linear algebra\n",
        "import pandas as pd # data processing, CSV file I/O (e.g. pd.read_csv)\n",
        "import tensorflow as tf\n",
        "from tensorflow.keras.preprocessing.image import ImageDataGenerator\n",
        "from tensorflow.keras.models import Sequential\n",
        "from tensorflow.keras.layers import Conv2D, MaxPooling2D, Flatten, Dense, Dropout\n",
        "from tensorflow.keras.optimizers import Adam\n",
        "from sklearn.model_selection import train_test_split\n",
        "import numpy as np\n",
        "import os\n",
        "import shutil\n",
        "import matplotlib.pyplot as plt\n",
        "from tensorflow.keras.applications import InceptionV3\n",
        "from tensorflow.keras.models import Model\n",
        "from tensorflow.keras.layers import Dense, Dropout, GlobalAveragePooling2D\n",
        "from tensorflow.keras.optimizers import Adam\n",
        "from tensorflow.keras.preprocessing import image\n",
        "from tensorflow.keras.models import load_model\n",
        "import numpy as np\n",
        "import matplotlib.pyplot as plt\n",
        "from PIL import Image\n",
        "from tensorflow.keras.applications import EfficientNetB3\n",
        "from tensorflow.keras.layers import GlobalAveragePooling2D, Dense, Dropout\n",
        "from tensorflow.keras.models import Model\n",
        "from tensorflow.keras.optimizers import Adam\n",
        "import matplotlib.pyplot as plt\n",
        "\n",
        "for dirname, _, filenames in os.walk('/kaggle/input'):\n",
        "    for filename in filenames:\n",
        "        print(os.path.join(dirname, filename))\n",
        "\n",
        "os.environ[\"CUDA_VISIBLE_DEVICES\"] = \"0\"  # Use GPU 0 (change to \"1\" for second GPU, etc.)\n",
        "\n",
        "# Verify TensorFlow is using GPU\n",
        "print(\"✅ Available GPUs:\", tf.config.list_physical_devices('GPU'))\n"
      ],
      "metadata": {
        "_uuid": "8f2839f25d086af736a60e9eeb907d3b93b6e0e5",
        "_cell_guid": "b1076dfc-b9ad-4769-8c92-a6c4dae69d19",
        "trusted": true,
        "_kg_hide-output": true,
        "execution": {
          "iopub.status.busy": "2025-04-15T10:02:27.225770Z",
          "iopub.execute_input": "2025-04-15T10:02:27.226148Z",
          "iopub.status.idle": "2025-04-15T10:02:33.681042Z",
          "shell.execute_reply.started": "2025-04-15T10:02:27.226118Z",
          "shell.execute_reply": "2025-04-15T10:02:33.680004Z"
        },
        "id": "YPMgsSq1b75b",
        "outputId": "98ddeae1-7d13-4b07-aa1a-c3499f701268",
        "colab": {
          "base_uri": "https://localhost:8080/"
        }
      },
      "outputs": [
        {
          "output_type": "stream",
          "name": "stdout",
          "text": [
            "✅ Available GPUs: [PhysicalDevice(name='/physical_device:GPU:0', device_type='GPU')]\n"
          ]
        }
      ],
      "execution_count": 25
    },
    {
      "cell_type": "code",
      "source": [
        "from google.colab import drive\n",
        "drive.mount('/content/drive')"
      ],
      "metadata": {
        "id": "viBiepFWcsTx",
        "outputId": "1a536e2a-62a2-44c9-b987-373e8755f516",
        "colab": {
          "base_uri": "https://localhost:8080/"
        }
      },
      "execution_count": 2,
      "outputs": [
        {
          "output_type": "stream",
          "name": "stdout",
          "text": [
            "Drive already mounted at /content/drive; to attempt to forcibly remount, call drive.mount(\"/content/drive\", force_remount=True).\n"
          ]
        }
      ]
    },
    {
      "cell_type": "code",
      "source": [
        "# Define the path to the zip file and the extraction directory\n",
        "zip_path = \"/content/drive/MyDrive/Virtual Operator/Dataset.zip\"\n",
        "extracted_dir = \"/content/sample_data\" # Directory to extract to\n",
        "\n",
        "# Extract the dataset if it hasn't been extracted already\n",
        "\n",
        "import zipfile\n",
        "with zipfile.ZipFile(zip_path, 'r') as zip_ref:\n",
        "  zip_ref.extractall(extracted_dir)\n",
        "\n",
        "\"\"\"\n",
        "source_dir = \"/kaggle/input/virtual-operator-proj-2025/Dataset\"  # Your read-only dataset\n",
        "dest_dir = \"/kaggle/working/Dataset\"  # Writable directory\n",
        "\n",
        "if not os.path.exists(dest_dir):\n",
        "    shutil.copytree(source_dir, dest_dir)\n",
        "    print(\"✅ Dataset copied to writable directory.\")\n",
        "else:\n",
        "    print(\"⚠️ Dataset already copied.\")\n",
        "\"\"\""
      ],
      "metadata": {
        "trusted": true,
        "execution": {
          "iopub.status.busy": "2025-04-15T10:02:33.682525Z",
          "iopub.execute_input": "2025-04-15T10:02:33.683151Z",
          "iopub.status.idle": "2025-04-15T10:02:33.687799Z",
          "shell.execute_reply.started": "2025-04-15T10:02:33.683124Z",
          "shell.execute_reply": "2025-04-15T10:02:33.686884Z"
        },
        "id": "TXCq3IChb75e",
        "outputId": "5b938914-c973-4ccb-8166-7922d7c4d84b",
        "colab": {
          "base_uri": "https://localhost:8080/",
          "height": 53
        }
      },
      "outputs": [
        {
          "output_type": "execute_result",
          "data": {
            "text/plain": [
              "'\\nsource_dir = \"/kaggle/input/virtual-operator-proj-2025/Dataset\"  # Your read-only dataset\\ndest_dir = \"/kaggle/working/Dataset\"  # Writable directory\\n\\nif not os.path.exists(dest_dir):\\n    shutil.copytree(source_dir, dest_dir)\\n    print(\"✅ Dataset copied to writable directory.\")\\nelse:\\n    print(\"⚠️ Dataset already copied.\")\\n'"
            ],
            "application/vnd.google.colaboratory.intrinsic+json": {
              "type": "string"
            }
          },
          "metadata": {},
          "execution_count": 15
        }
      ],
      "execution_count": 15
    },
    {
      "cell_type": "code",
      "source": [
        "dataset_dir = \"/content/sample_data/Dataset\"\n",
        "\n",
        "for root, _, files in os.walk(dataset_dir):\n",
        "    for file in files:\n",
        "        file_path = os.path.join(root, file)\n",
        "        try:\n",
        "            with Image.open(file_path) as img:\n",
        "                img.verify()  # Verify if image is valid\n",
        "        except (IOError, SyntaxError):\n",
        "            print(f\"⚠️ Corrupt file detected and removed: {file_path}\")\n",
        "            os.remove(file_path)  # Delete corrupt file"
      ],
      "metadata": {
        "trusted": true,
        "execution": {
          "iopub.status.busy": "2025-04-15T10:02:33.689600Z",
          "iopub.execute_input": "2025-04-15T10:02:33.689897Z",
          "iopub.status.idle": "2025-04-15T10:02:33.974211Z",
          "shell.execute_reply.started": "2025-04-15T10:02:33.689871Z",
          "shell.execute_reply": "2025-04-15T10:02:33.973338Z"
        },
        "id": "021Fjov5b75e"
      },
      "outputs": [],
      "execution_count": 31
    },
    {
      "cell_type": "code",
      "source": [
        "for root, _, files in os.walk(dataset_dir):\n",
        "    for file in files:\n",
        "        if not file.lower().endswith(('.png', '.jpg', '.jpeg', '.bmp', '.tif', '.tiff')):\n",
        "            print(f\"⚠️ Found non-image file: {file}\")"
      ],
      "metadata": {
        "trusted": true,
        "execution": {
          "iopub.status.busy": "2025-04-15T10:02:33.975771Z",
          "iopub.execute_input": "2025-04-15T10:02:33.975997Z",
          "iopub.status.idle": "2025-04-15T10:02:33.981995Z",
          "shell.execute_reply.started": "2025-04-15T10:02:33.975978Z",
          "shell.execute_reply": "2025-04-15T10:02:33.981312Z"
        },
        "id": "G8o5r3Mab75f"
      },
      "outputs": [],
      "execution_count": 32
    },
    {
      "cell_type": "code",
      "source": [
        "for root, _, files in os.walk(dataset_dir):\n",
        "    for file in files:\n",
        "        file_path = os.path.join(root, file)\n",
        "        if file.lower().endswith(('.png', '.bmp', '.tiff', '.gif', '.webp')):\n",
        "            try:\n",
        "                img = Image.open(file_path).convert('RGB')\n",
        "                new_path = file_path.rsplit(\".\", 1)[0] + \".jpg\"\n",
        "                img.save(new_path, \"JPEG\")\n",
        "                os.remove(file_path)  # Remove original\n",
        "                print(f\"✅ Converted {file} to {new_path}\")\n",
        "            except Exception as e:\n",
        "                print(f\"❌ Failed to convert {file}: {e}\")"
      ],
      "metadata": {
        "trusted": true,
        "execution": {
          "iopub.status.busy": "2025-04-15T10:02:33.982777Z",
          "iopub.execute_input": "2025-04-15T10:02:33.983061Z",
          "iopub.status.idle": "2025-04-15T10:02:33.998806Z",
          "shell.execute_reply.started": "2025-04-15T10:02:33.983039Z",
          "shell.execute_reply": "2025-04-15T10:02:33.997989Z"
        },
        "id": "NpO6G_Qqb75f"
      },
      "outputs": [],
      "execution_count": 33
    },
    {
      "cell_type": "code",
      "source": [
        "dataset_dir = \"/content/sample_data/Dataset\"\n",
        "\n",
        "# Hyper parameters\n",
        "img_size = 300\n",
        "batch_size = 32\n",
        "epochs = 13\n",
        "folds = 4  # Number of cross-validation folds\n",
        "Lr = 0.0001\n",
        "\n",
        "# STEP 1: SPLITTING DATASET (80% Train, 20% Test)\n",
        "all_data_dir = os.listdir(dataset_dir)\n",
        "train_test_dir = \"split_dataset\"\n",
        "train_dir = os.path.join(train_test_dir, \"train\")\n",
        "test_dir = os.path.join(train_test_dir, \"test\")\n",
        "\n",
        "# Create train and test folders\n",
        "if not os.path.exists(train_test_dir):\n",
        "    os.makedirs(train_dir)\n",
        "    os.makedirs(test_dir)\n",
        "\n",
        "    # Loop through classes\n",
        "    for class_name in all_data_dir:\n",
        "        class_path = os.path.join(dataset_dir, class_name)\n",
        "        if os.path.isdir(class_path):\n",
        "            images = os.listdir(class_path)\n",
        "            train_images, test_images = train_test_split(images, test_size=0.2, random_state=42)\n",
        "\n",
        "            # Create class folders\n",
        "            os.makedirs(os.path.join(train_dir, class_name))\n",
        "            os.makedirs(os.path.join(test_dir, class_name))\n",
        "\n",
        "            # Move images\n",
        "            for img in train_images:\n",
        "                shutil.copy(os.path.join(class_path, img), os.path.join(train_dir, class_name, img))\n",
        "            for img in test_images:\n",
        "                shutil.copy(os.path.join(class_path, img), os.path.join(test_dir, class_name, img))\n",
        "\n",
        "# STEP 2: SPLITTING TRAINING SET (70% Train, 30% Validation)\n",
        "train_valid_dir = \"train_validation_split\"\n",
        "train_subdir = os.path.join(train_valid_dir, \"train\")\n",
        "valid_subdir = os.path.join(train_valid_dir, \"valid\")\n",
        "\n",
        "if not os.path.exists(train_valid_dir):\n",
        "    os.makedirs(train_subdir)\n",
        "    os.makedirs(valid_subdir)\n",
        "\n",
        "    for class_name in os.listdir(train_dir):\n",
        "        class_path = os.path.join(train_dir, class_name)\n",
        "        if os.path.isdir(class_path):\n",
        "            images = os.listdir(class_path)\n",
        "            train_images, valid_images = train_test_split(images, test_size=0.3, random_state=42)\n",
        "\n",
        "            os.makedirs(os.path.join(train_subdir, class_name))\n",
        "            os.makedirs(os.path.join(valid_subdir, class_name))\n",
        "\n",
        "            for img in train_images:\n",
        "                shutil.copy(os.path.join(class_path, img), os.path.join(train_subdir, class_name, img))\n",
        "            for img in valid_images:\n",
        "                shutil.copy(os.path.join(class_path, img), os.path.join(valid_subdir, class_name, img))\n",
        "\n",
        "# STEP 3: DATA AUGMENTATION & PREPROCESSING\n",
        "\n",
        "datagen = ImageDataGenerator(rescale=1.0 / 255,  # Normalize pixel values\n",
        "    rotation_range=30,  # Rotate images up to 30 degrees\n",
        "    width_shift_range=0.2,  # Shift images horizontally\n",
        "    height_shift_range=0.2,  # Shift images vertically\n",
        "    shear_range=0.2,  # Apply shear transformations\n",
        "    zoom_range=0.2,  # Random zooming\n",
        "    horizontal_flip=True,  # Flip images horizontally\n",
        "    brightness_range=[0.8, 1.2],  # Adjust brightness\n",
        "    fill_mode=\"nearest\",  # Fill missing pixels after transformationsrescale=1.0 / 255)\n",
        "                            )\n",
        "train_generator = datagen.flow_from_directory(\n",
        "    train_subdir, target_size=(img_size, img_size), batch_size=batch_size, class_mode='categorical'\n",
        ")\n",
        "valid_generator = datagen.flow_from_directory(\n",
        "    valid_subdir, target_size=(img_size, img_size), batch_size=batch_size, class_mode='categorical'\n",
        ")\n",
        "test_generator = datagen.flow_from_directory(\n",
        "    test_dir, target_size=(img_size, img_size), batch_size=batch_size, class_mode='categorical', shuffle=False\n",
        ")"
      ],
      "metadata": {
        "trusted": true,
        "execution": {
          "iopub.status.busy": "2025-04-15T10:02:33.999711Z",
          "iopub.execute_input": "2025-04-15T10:02:33.999924Z",
          "iopub.status.idle": "2025-04-15T10:02:34.072459Z",
          "shell.execute_reply.started": "2025-04-15T10:02:33.999906Z",
          "shell.execute_reply": "2025-04-15T10:02:34.071650Z"
        },
        "id": "XuLTqn7mb75f",
        "outputId": "bf39f59b-e461-47ab-a3b7-04f2a15ac102",
        "colab": {
          "base_uri": "https://localhost:8080/"
        }
      },
      "outputs": [
        {
          "output_type": "stream",
          "name": "stdout",
          "text": [
            "Found 0 images belonging to 0 classes.\n",
            "Found 0 images belonging to 0 classes.\n",
            "Found 0 images belonging to 0 classes.\n"
          ]
        }
      ],
      "execution_count": 40
    },
    {
      "cell_type": "markdown",
      "source": [
        "CNN"
      ],
      "metadata": {
        "execution": {
          "iopub.status.busy": "2025-04-08T11:32:53.683294Z",
          "iopub.execute_input": "2025-04-08T11:32:53.683610Z",
          "iopub.status.idle": "2025-04-08T11:32:53.692528Z",
          "shell.execute_reply.started": "2025-04-08T11:32:53.683579Z",
          "shell.execute_reply": "2025-04-08T11:32:53.691677Z"
        },
        "id": "BCsWQ-Rzb75f"
      }
    },
    {
      "cell_type": "code",
      "source": [
        "\"\"\"bold text\n",
        "# STEP 4: BUILD CNN MODEL\n",
        "model = Sequential([\n",
        "    Conv2D(32, (3, 3), activation='relu', input_shape=(img_size, img_size, 3)),\n",
        "    MaxPooling2D(2, 2),\n",
        "\n",
        "    Conv2D(64, (3, 3), activation='relu'),\n",
        "    MaxPooling2D(2, 2),\n",
        "\n",
        "    Conv2D(128, (3, 3), activation='relu'),\n",
        "    MaxPooling2D(2, 2),\n",
        "\n",
        "    Conv2D(256, (3, 3), activation='relu'),\n",
        "    MaxPooling2D(2, 2),\n",
        "\n",
        "    Flatten(),\n",
        "    Dense(512, activation='relu'),\n",
        "    Dropout(0.4),\n",
        "    Dense(train_generator.num_classes, activation='softmax')\n",
        "])\n",
        "\n",
        "# Compile Model\n",
        "model.compile(optimizer=Adam(learning_rate=0.0001), loss='categorical_crossentropy', metrics=['accuracy'])\n",
        "\n",
        "# STEP 5: CROSS-VALIDATION\n",
        "\n",
        "for fold in range(folds):\n",
        "    print(f\"\\n🚀 Cross-validation fold {fold + 1}/{folds}...\\n\")\n",
        "    model.fit(train_generator, validation_data=valid_generator, epochs=epochs)\n",
        "\n",
        "# STEP 6: TEST MODEL ON UNSEEN DATA\n",
        "test_loss, test_acc = model.evaluate(test_generator)\n",
        "print(f\"\\n🧪 Test Accuracy: {test_acc * 100:.2f}%\")\n",
        "print(f\"🧪 Test Loss: {test_loss:.4f}\")\n",
        "\n",
        "# Define a counter\n",
        "counter = 1\n",
        "filename = f\"/kaggle/working/my_model_{counter}.h5\"\n",
        "\n",
        "# Find the next available number\n",
        "while os.path.exists(filename):\n",
        "    counter += 1\n",
        "    filename =  f\"/kaggle/working/my_model_{counter}_acc{test_acc}.h5\"\n",
        "\n",
        "# Save the model\n",
        "model.save(filename)\n",
        "print(f\"✅ Model saved as: {filename}\")\n",
        "\n",
        "\n",
        "# STEP 7: DISPLAY PREDICTIONS\n",
        "import matplotlib.pyplot as plt\n",
        "import numpy as np\n",
        "\n",
        "# Get test images and labels\n",
        "test_images, test_labels = next(test_generator)\n",
        "predictions = model.predict(test_images)\n",
        "\n",
        "# Show first 5 images and predictions\n",
        "plt.figure(figsize=(12, 6))\n",
        "for i in range(5):\n",
        "    plt.subplot(1, 5, i+1)\n",
        "    plt.imshow(test_images[i])\n",
        "    plt.title(f\"Predicted: {np.argmax(predictions[i])}\\nActual: {np.argmax(test_labels[i])}\")\n",
        "    plt.axis('off')\n",
        "\n",
        "plt.show()\"\"\""
      ],
      "metadata": {
        "id": "58OqRV9DhgSg"
      },
      "execution_count": null,
      "outputs": []
    },
    {
      "cell_type": "markdown",
      "source": [
        "Inception"
      ],
      "metadata": {
        "id": "yhhtARRIhopt"
      }
    },
    {
      "cell_type": "code",
      "source": [
        "\"\"\"\n",
        "# STEP 4: LOAD PRETRAINED INCEPTIONV3 MODEL\n",
        "base_model = InceptionV3(weights=\"imagenet\", include_top=False, input_shape=(img_size, img_size, 3))\n",
        "\n",
        "# Freeze base model layers\n",
        "base_model.trainable = True # This prevents training the pre-trained layers\n",
        "\n",
        "# Add Custom Classification Head\n",
        "x = base_model.output\n",
        "x = GlobalAveragePooling2D()(x)  # Replaces Flatten\n",
        "x = Dense(512, activation=\"relu\")(x)\n",
        "x = Dropout(0.4)(x)\n",
        "output_layer = Dense(train_generator.num_classes, activation=\"softmax\")(x)  # Adjusts for your classes\n",
        "\n",
        "# Create Model\n",
        "model = Model(inputs=base_model.input, outputs=output_layer)\n",
        "\n",
        "# Compile Model\n",
        "model.compile(optimizer=Adam(learning_rate=0.0001), loss=\"categorical_crossentropy\", metrics=[\"accuracy\"])\n",
        "\n",
        "# STEP 5: CROSS-VALIDATION\n",
        "for fold in range(folds):\n",
        "    print(f\"\\n🚀 Cross-validation fold {fold + 1}/{folds}...\\n\")\n",
        "    model.fit(train_generator, validation_data=valid_generator, epochs=epochs)\n",
        "\n",
        "# STEP 6: TEST MODEL ON UNSEEN DATA\n",
        "test_loss, test_acc = model.evaluate(test_generator)\n",
        "print(f\"\\n🧪 Test Accuracy: {test_acc * 100:.2f}%\")\n",
        "print(f\"🧪 Test Loss: {test_loss:.4f}\")\n",
        "\n",
        "# Define a counter\n",
        "counter = 1\n",
        "filename = f\"/kaggle/working/my_model_{counter}_acc{test_acc:.4f}.h5\"\n",
        "\n",
        "# Find the next available number\n",
        "while os.path.exists(filename):\n",
        "    counter += 1\n",
        "    filename = f\"/kaggle/working/my_model_{counter}_acc{test_acc:.4f}.h5\"\n",
        "\n",
        "# Save the model\n",
        "model.save(filename)\n",
        "print(f\"✅ Model saved as: {filename}\")\n",
        "\n",
        "output_path = f\"/kaggle/working/{filename}\"\n",
        "shutil.move(filename, output_path)\n",
        "print(f\"✅ Model moved to {output_path}\")\n",
        "\n",
        "# STEP 7: DISPLAY PREDICTIONS\n",
        "test_images, test_labels = next(test_generator)\n",
        "predictions = model.predict(test_images)\n",
        "\n",
        "# Show first 5 images and predictions\n",
        "plt.figure(figsize=(12, 6))\n",
        "for i in range(5):\n",
        "    plt.subplot(1, 5, i+1)\n",
        "    plt.imshow(test_images[i])\n",
        "    plt.title(f\"Predicted: {np.argmax(predictions[i])}\\nActual: {np.argmax(test_labels[i])}\")\n",
        "    plt.axis(\"off\")\n",
        "\n",
        "plt.show()\n",
        "\"\"\""
      ],
      "metadata": {
        "trusted": true,
        "execution": {
          "iopub.status.busy": "2025-04-15T10:02:34.073324Z",
          "iopub.execute_input": "2025-04-15T10:02:34.073543Z",
          "iopub.status.idle": "2025-04-15T11:50:32.760742Z",
          "shell.execute_reply.started": "2025-04-15T10:02:34.073505Z",
          "shell.execute_reply": "2025-04-15T11:50:32.759429Z"
        },
        "id": "mhXtmLSPb75g"
      },
      "outputs": [],
      "execution_count": null
    },
    {
      "cell_type": "markdown",
      "source": [
        "EfficientNet"
      ],
      "metadata": {
        "id": "PFEJtvFGht2Z"
      }
    },
    {
      "cell_type": "code",
      "source": [
        "\n",
        "# STEP 4: LOAD PRETRAINED EFFICIENTNETB3 MODEL\n",
        "base_model = EfficientNetB3(weights=\"imagenet\", include_top=False, input_shape=(img_size, img_size, 3))\n",
        "\n",
        "# Freeze base model layers\n",
        "base_model.trainable = True  # You can set to False if you want to fine-tune only the top layers initially\n",
        "\n",
        "# Add Custom Classification Head\n",
        "x = base_model.output\n",
        "x = GlobalAveragePooling2D()(x)\n",
        "x = Dense(512, activation=\"relu\")(x)\n",
        "x = Dropout(0.4)(x)\n",
        "output_layer = Dense(train_generator.num_classes, activation=\"softmax\")(x)\n",
        "\n",
        "# Create Model\n",
        "model = Model(inputs=base_model.input, outputs=output_layer)\n",
        "\n",
        "# Compile Model\n",
        "model.compile(optimizer=Adam(learning_rate=Lr), loss=\"categorical_crossentropy\", metrics=[\"accuracy\"])\n",
        "\n",
        "# STEP 5: CROSS-VALIDATION\n",
        "for fold in range(folds):\n",
        "    print(f\"\\n🚀 Cross-validation fold {fold + 1}/{folds}...\\n\")\n",
        "    model.fit(train_generator, validation_data=valid_generator, epochs=epochs)\n",
        "\n",
        "# STEP 6: TEST MODEL ON UNSEEN DATA\n",
        "test_loss, test_acc = model.evaluate(test_generator)\n",
        "print(f\"\\n🧪 Test Accuracy: {test_acc * 100:.2f}%\")\n",
        "print(f\"🧪 Test Loss: {test_loss:.4f}\")\n",
        "\n",
        "# Define a counter\n",
        "counter = 1\n",
        "filename = f\"/kaggle/working/my_model_{counter}_acc{test_acc:.4f}.h5\"\n",
        "\n",
        "# Find the next available number\n",
        "while os.path.exists(filename):\n",
        "    counter += 1\n",
        "    filename = f\"/content/drive/MyDrive/Virtual Operator/Models/EfficientNet_{counter}_acc{test_acc:.4f}.h5\"\n",
        "\n",
        "# Save the model\n",
        "model.save(filename)\n",
        "print(f\"✅ Model saved as: {filename}\")\n",
        "\n",
        "output_path = f\"/kaggle/working/{filename}\"\n",
        "shutil.move(filename, output_path)\n",
        "print(f\"✅ Model moved to {output_path}\")\n",
        "\n",
        "# STEP 7: DISPLAY PREDICTIONS\n",
        "test_images, test_labels = next(test_generator)\n",
        "predictions = model.predict(test_images)\n",
        "\n",
        "# Show first 5 images and predictions\n",
        "plt.figure(figsize=(12, 6))\n",
        "for i in range(5):\n",
        "    plt.subplot(1, 5, i + 1)\n",
        "    plt.imshow(test_images[i])\n",
        "    plt.title(f\"Predicted: {np.argmax(predictions[i])}\\nActual: {np.argmax(test_labels[i])}\")\n",
        "    plt.axis(\"off\")\n",
        "\n",
        "plt.show()\n"
      ],
      "metadata": {
        "trusted": true,
        "execution": {
          "iopub.status.busy": "2025-04-15T11:50:32.761166Z",
          "iopub.status.idle": "2025-04-15T11:50:32.761412Z",
          "shell.execute_reply": "2025-04-15T11:50:32.761311Z"
        },
        "id": "V5OdIa2Wb75g"
      },
      "outputs": [],
      "execution_count": null
    },
    {
      "cell_type": "code",
      "source": [
        "\n",
        "# 🔹 Load your trained model (adjust path as needed)\n",
        "model_path = \"/kaggle/working/my_model_1_acc0.9962.h5\"  # Update with your model name\n",
        "model = load_model(model_path)\n",
        "\n",
        "# 🔹 Load and preprocess the image\n",
        "img_path = \"/kaggle/working/Dataset/Hero/IMG_20250318_011706_1.jpg\"  # Replace with your image path\n",
        "img = image.load_img(img_path, target_size=(img_size, img_size))  # Resize to match model input\n",
        "img_array = image.img_to_array(img)\n",
        "img_array = np.expand_dims(img_array, axis=0)  # Add batch dimension\n",
        "img_array = img_array / 255.0  # Normalize\n",
        "\n",
        "# 🔹 Predict\n",
        "prediction = model.predict(img_array)\n",
        "predicted_class = np.argmax(prediction, axis=1)[0]\n",
        "\n",
        "# 🔹 Get class labels from generator\n",
        "class_labels = list(train_generator.class_indices.keys())\n",
        "predicted_label = class_labels[predicted_class]\n",
        "\n",
        "# 🔹 Display\n",
        "plt.imshow(img)\n",
        "plt.title(f\"Predicted: {predicted_label}\")\n",
        "plt.axis('off')\n",
        "plt.show()\n"
      ],
      "metadata": {
        "trusted": true,
        "execution": {
          "iopub.status.busy": "2025-04-15T11:50:32.762183Z",
          "iopub.status.idle": "2025-04-15T11:50:32.762514Z",
          "shell.execute_reply": "2025-04-15T11:50:32.762356Z"
        },
        "id": "qtE50Aafb75g"
      },
      "outputs": [],
      "execution_count": null
    }
  ]
}